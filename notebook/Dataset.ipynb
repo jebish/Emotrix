{
  "cells": [
    {
      "cell_type": "markdown",
      "metadata": {},
      "source": [
        "This notebook downloads only the text and audio of the dataset."
      ]
    },
    {
      "cell_type": "code",
      "execution_count": null,
      "metadata": {
        "id": "30vQgsutE86J"
      },
      "outputs": [],
      "source": [
        "import gdown\n",
        "import os, shutil"
      ]
    },
    {
      "cell_type": "code",
      "execution_count": null,
      "metadata": {},
      "outputs": [],
      "source": [
        "file_list=[]\n",
        "#file_list should contain the number or range of file name\n",
        "link=''\n",
        "#link should contain the url of base download folder"
      ]
    },
    {
      "cell_type": "code",
      "execution_count": null,
      "metadata": {
        "colab": {
          "base_uri": "https://localhost:8080/"
        },
        "id": "I-Fh3o9G7dyW",
        "outputId": "007d413c-408a-42e3-ff69-f5939ce94e02"
      },
      "outputs": [],
      "source": [
        "for i in range(file_list):\n",
        "  file=str(i)\n",
        "  !gdown '{link}{file}_P.tar.gz'\n",
        "  !tar -xvf  '/content/{file}_P.tar.gz'\n",
        "  !rm '/content/{file}_P.tar.gz'\n",
        "  \n",
        "  fold=os.path.join('/content',file+'_P')\n",
        "  features_fold=os.path.join('/content',file+'_P','features/')\n",
        "  shutil.rmtree(features_fold)\n",
        "  !cp -av \"/content/{file}_P\" \"/content/drive/MyDrive/EDAICWOZ/EDAIC_Text\"\n",
        "  shutil.rmtree(fold)"
      ]
    },
    {
      "cell_type": "code",
      "execution_count": null,
      "metadata": {
        "colab": {
          "base_uri": "https://localhost:8080/",
          "height": 1000
        },
        "id": "7UC1H4dXmrso",
        "outputId": "fc45d5f4-01e6-43de-d082-3d3f0153682c"
      },
      "outputs": [],
      "source": [
        "#For DAIC-WOZ\n",
        "for i in range(file_list):\n",
        "  file=str(i)\n",
        "  !gdown '{link}{file}_P.zip'\n",
        "  !unzip '/content/{file}_P.zip' -d '/content/{file}_P'\n",
        "  !rm '/content/{file}_P.zip'\n",
        "  fold=os.path.join('/content',file+'_P')\n",
        "  !cp \"/content/{file}_P/{file}_TRANSCRIPT.csv\" \"/content/drive/MyDrive/DAIC/DAIC_text\"\n",
        "  !cp \"/content/{file}_P/{file}_AUDIO.wav\" \"/content/drive/MyDrive/DAIC/DAIC_audio\"\n",
        "  shutil.rmtree(fold)"
      ]
    }
  ],
  "metadata": {
    "colab": {
      "provenance": []
    },
    "kernelspec": {
      "display_name": "Python 3",
      "name": "python3"
    },
    "language_info": {
      "name": "python"
    }
  },
  "nbformat": 4,
  "nbformat_minor": 0
}
