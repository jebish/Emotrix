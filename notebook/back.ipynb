{
 "cells": [
  {
   "cell_type": "markdown",
   "metadata": {},
   "source": [
    "This didn't work for our project as each data response was too long."
   ]
  },
  {
   "cell_type": "code",
   "execution_count": 47,
   "metadata": {},
   "outputs": [],
   "source": [
    "from transformers import MarianMTModel, MarianTokenizer\n",
    "import pandas as pd\n",
    "import torch"
   ]
  },
  {
   "cell_type": "code",
   "execution_count": 48,
   "metadata": {},
   "outputs": [],
   "source": [
    "device = \"cuda:0\" if torch.cuda.is_available() else \"cpu\""
   ]
  },
  {
   "cell_type": "code",
   "execution_count": null,
   "metadata": {},
   "outputs": [],
   "source": [
    "src_model_name='Helsinki-NLP/opus-mt-en-fr'\n",
    "src_tokenizer=MarianTokenizer.from_pretrained(src_model_name)\n",
    "src_model=MarianMTModel.from_pretrained(src_model_name).to(device)\n",
    "\n",
    "tgt_model_name='Helsinki-NLP/opus-mt-fr-en'\n",
    "tgt_tokenizer=MarianTokenizer.from_pretrained(tgt_model_name)\n",
    "tgt_model=MarianMTModel.from_pretrained(tgt_model_name).to(device)"
   ]
  },
  {
   "cell_type": "code",
   "execution_count": 55,
   "metadata": {},
   "outputs": [],
   "source": [
    "def back_translate(text):\n",
    "    inputs=src_tokenizer(text,return_tensors='pt',padding=True,truncation=True)\n",
    "    translated_tokens=src_model.generate(**inputs)\n",
    "    translated_text=src_tokenizer.decode(translated_tokens[0],skip_special_tokens=True)\n",
    "\n",
    "    inputs=tgt_tokenizer(translated_text,return_tensors='pt',padding=True,truncation=True)\n",
    "    back_translated_tokens=tgt_model.generate(**inputs)\n",
    "    back_translated_text=tgt_tokenizer.decode(back_translated_tokens[0],skip_special_tokens=True)\n",
    "\n",
    "    return back_translated_text"
   ]
  },
  {
   "cell_type": "code",
   "execution_count": null,
   "metadata": {},
   "outputs": [],
   "source": [
    "trial='I am feeling not so good today. I live in Austin, I donot do much'\n",
    "back_trial=back_translate(trial)\n",
    "print('Original:',trial)\n",
    "print('Augmented:',back_trial)"
   ]
  },
  {
   "cell_type": "code",
   "execution_count": null,
   "metadata": {},
   "outputs": [],
   "source": [
    "def back_translate_batch(texts, src_tokenizer, src_model, tgt_tokenizer, tgt_model):\n",
    "    # Translate from English to French\n",
    "    inputs = src_tokenizer(texts, return_tensors=\"pt\", padding=True, truncation=True)\n",
    "    translated_tokens = src_model.generate(**inputs)\n",
    "    translated_texts = [src_tokenizer.decode(t, skip_special_tokens=True) for t in translated_tokens]\n",
    "\n",
    "    # Translate back from French to English\n",
    "    inputs = tgt_tokenizer(translated_texts, return_tensors=\"pt\", padding=True, truncation=True)\n",
    "    back_translated_tokens = tgt_model.generate(**inputs)\n",
    "    back_translated_texts = [tgt_tokenizer.decode(t, skip_special_tokens=True) for t in back_translated_tokens]\n",
    "\n",
    "    return back_translated_texts\n",
    "\n",
    "# Example usage for batch\n",
    "texts=['I am feeling good today','The world is cruel']\n",
    "\n",
    "augmented_texts = back_translate_batch(texts, src_tokenizer, src_model, tgt_tokenizer, tgt_model)\n",
    "for original, augmented in zip(texts, augmented_texts):\n",
    "    print(f\"Original: {original}\")\n",
    "    print(f\"Augmented: {augmented}\")"
   ]
  },
  {
   "cell_type": "code",
   "execution_count": 63,
   "metadata": {},
   "outputs": [],
   "source": [
    "aug_dataset=pd.read_csv(r'D:\\Ematrix\\DAIC\\Preprocessed\\aug_dataset.csv')\n",
    "back_data=aug_dataset.loc[aug_dataset['PHQ8_Binary']==1]\n",
    "texts=back_data['response'].to_list()"
   ]
  },
  {
   "cell_type": "code",
   "execution_count": null,
   "metadata": {},
   "outputs": [],
   "source": [
    "augmented_texts = back_translate_batch(texts[1], src_tokenizer, src_model, tgt_tokenizer, tgt_model)\n",
    "for original, augmented in zip(texts, augmented_texts):\n",
    "    print(f\"Original: {original}\")\n",
    "    print(f\"Augmented: {augmented}\")"
   ]
  }
 ],
 "metadata": {
  "kernelspec": {
   "display_name": "Python 3",
   "language": "python",
   "name": "python3"
  },
  "language_info": {
   "codemirror_mode": {
    "name": "ipython",
    "version": 3
   },
   "file_extension": ".py",
   "mimetype": "text/x-python",
   "name": "python",
   "nbconvert_exporter": "python",
   "pygments_lexer": "ipython3",
   "version": "3.11.1"
  }
 },
 "nbformat": 4,
 "nbformat_minor": 2
}
